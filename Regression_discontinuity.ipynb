{
 "cells": [
  {
   "cell_type": "markdown",
   "metadata": {},
   "source": [
    "**Regression discontinuity example: Banking Recovery data**\n",
    "\n",
    "After a debt has been legally declared \"uncollectable\" by a bank, the account is considered to be \"charged-off\".  \n",
    "\n",
    "But that doesn't mean the bank simply walks away from the debt.  They still want to collect some of the debt.  \n",
    "\n",
    "The bank will score the account to assess the expected recovery amount, that is the expected amount that the bank may be able to receive from the customer in the future (fixed time period such as one year).  This amount is a function of the probability of the customer paying, the total debt and other factors that impact the ability and willingness to pay.\n",
    "\n",
    "The bank has implemented different recovery strategies at different thresholds (\\$1000, \\$2000, etc.) where the greater the expected recovery amount the more effort the bank puts into contacting the customer.  For low recovery amounts (Level 0), the bank just adds the customer's contact information to their automatic dialer and emailing system.  For higher recovery strategies, the bank incurs more costs as they leverage human resources in more efforts to contact the customer and obtian payments.\n",
    "\n",
    "A key question is whether the recovery strategy's extra efforts result in greater recovered amounts.  Each additional level of recovery strategy requires an additional \\$50 per customer so that customers in the Recovery Strategy Level 1 cost the company \\$50 more than those in Level 0.  Those in Level 2 cost \\$50 more than those in Level 1, etc.\n",
    "\n",
    "Since this assignment to recovery strategy is done administratively (and not as a randomized A/B test) we need to employ different methods to assess the impact of the recovery strategy.  The analysis needed to estimate the impact is retrospective and not prospective.\n",
    "\n",
    "We will focus not on the entire range of the expected recovery amount but only on a small range just above and below the threshold used for assignment.\n",
    "\n",
    "Key things we want to determine are:\n",
    "- Did other variables (not used for the assignment) vary continuously across the thresholds?  In this case, we have data about the customer's age and sex.\n",
    "- After controlling for the variable used for assignment (expected_recovery_amount) was the actual recovery amount greater at higher Recovery level?\n",
    "- Did the extra Recovery amount exceed the extra costs? (or, in other words, should the company pay \\$50 more per customer to make the extra effort needed at the higher level?)"
   ]
  },
  {
   "cell_type": "markdown",
   "metadata": {},
   "source": [
    "Import necessary libraries"
   ]
  },
  {
   "cell_type": "code",
   "execution_count": 7,
   "metadata": {
    "collapsed": true
   },
   "outputs": [],
   "source": [
    "import pandas as pd\n",
    "import numpy as np\n",
    "import matplotlib.pyplot as plt\n",
    "from scipy import stats\n",
    "import statsmodels.api as sm\n",
    "from sklearn import linear_model\n",
    "from IPython.display import Image"
   ]
  },
  {
   "cell_type": "markdown",
   "metadata": {},
   "source": [
    "Importing bank data"
   ]
  },
  {
   "cell_type": "code",
   "execution_count": 8,
   "metadata": {
    "collapsed": false
   },
   "outputs": [],
   "source": [
    "bank_data= '~/Desktop/bank_data.csv'\n",
    "df = pd.read_csv(bank_data)"
   ]
  },
  {
   "cell_type": "markdown",
   "metadata": {},
   "source": [
    "Printing first few rows of df"
   ]
  },
  {
   "cell_type": "code",
   "execution_count": 9,
   "metadata": {
    "collapsed": false
   },
   "outputs": [
    {
     "data": {
      "text/html": [
       "<div>\n",
       "<table border=\"1\" class=\"dataframe\">\n",
       "  <thead>\n",
       "    <tr style=\"text-align: right;\">\n",
       "      <th></th>\n",
       "      <th>id</th>\n",
       "      <th>expected_recovery_amount</th>\n",
       "      <th>actual_recovery_amount</th>\n",
       "      <th>recovery_strategy</th>\n",
       "      <th>age</th>\n",
       "      <th>sex</th>\n",
       "    </tr>\n",
       "  </thead>\n",
       "  <tbody>\n",
       "    <tr>\n",
       "      <th>0</th>\n",
       "      <td>2030</td>\n",
       "      <td>194</td>\n",
       "      <td>263.540</td>\n",
       "      <td>Level 0 Recovery</td>\n",
       "      <td>19</td>\n",
       "      <td>Male</td>\n",
       "    </tr>\n",
       "    <tr>\n",
       "      <th>1</th>\n",
       "      <td>1150</td>\n",
       "      <td>486</td>\n",
       "      <td>416.090</td>\n",
       "      <td>Level 0 Recovery</td>\n",
       "      <td>25</td>\n",
       "      <td>Female</td>\n",
       "    </tr>\n",
       "    <tr>\n",
       "      <th>2</th>\n",
       "      <td>380</td>\n",
       "      <td>527</td>\n",
       "      <td>429.350</td>\n",
       "      <td>Level 0 Recovery</td>\n",
       "      <td>27</td>\n",
       "      <td>Male</td>\n",
       "    </tr>\n",
       "    <tr>\n",
       "      <th>3</th>\n",
       "      <td>1838</td>\n",
       "      <td>536</td>\n",
       "      <td>296.990</td>\n",
       "      <td>Level 0 Recovery</td>\n",
       "      <td>25</td>\n",
       "      <td>Male</td>\n",
       "    </tr>\n",
       "    <tr>\n",
       "      <th>4</th>\n",
       "      <td>1995</td>\n",
       "      <td>541</td>\n",
       "      <td>346.385</td>\n",
       "      <td>Level 0 Recovery</td>\n",
       "      <td>34</td>\n",
       "      <td>Male</td>\n",
       "    </tr>\n",
       "  </tbody>\n",
       "</table>\n",
       "</div>"
      ],
      "text/plain": [
       "     id  expected_recovery_amount  actual_recovery_amount recovery_strategy  \\\n",
       "0  2030                       194                 263.540  Level 0 Recovery   \n",
       "1  1150                       486                 416.090  Level 0 Recovery   \n",
       "2   380                       527                 429.350  Level 0 Recovery   \n",
       "3  1838                       536                 296.990  Level 0 Recovery   \n",
       "4  1995                       541                 346.385  Level 0 Recovery   \n",
       "\n",
       "   age     sex  \n",
       "0   19    Male  \n",
       "1   25  Female  \n",
       "2   27    Male  \n",
       "3   25    Male  \n",
       "4   34    Male  "
      ]
     },
     "execution_count": 9,
     "metadata": {},
     "output_type": "execute_result"
    }
   ],
   "source": [
    "df.head()"
   ]
  },
  {
   "cell_type": "markdown",
   "metadata": {
    "collapsed": true
   },
   "source": [
    "**Describe the data set**\n",
    "\n",
    "It includes a customer id (identification), Expected Recovery Amount (used for assigning the customer to different recovery strategies), Actual recovery amount, Age, Sex, and Recovery Strategy Level"
   ]
  },
  {
   "cell_type": "code",
   "execution_count": 10,
   "metadata": {
    "collapsed": false
   },
   "outputs": [
    {
     "data": {
      "text/html": [
       "<div>\n",
       "<table border=\"1\" class=\"dataframe\">\n",
       "  <thead>\n",
       "    <tr style=\"text-align: right;\">\n",
       "      <th></th>\n",
       "      <th>id</th>\n",
       "      <th>expected_recovery_amount</th>\n",
       "      <th>actual_recovery_amount</th>\n",
       "      <th>age</th>\n",
       "    </tr>\n",
       "  </thead>\n",
       "  <tbody>\n",
       "    <tr>\n",
       "      <th>count</th>\n",
       "      <td>1882.000000</td>\n",
       "      <td>1882.000000</td>\n",
       "      <td>1882.000000</td>\n",
       "      <td>1882.000000</td>\n",
       "    </tr>\n",
       "    <tr>\n",
       "      <th>mean</th>\n",
       "      <td>1035.596174</td>\n",
       "      <td>2759.967588</td>\n",
       "      <td>4000.967837</td>\n",
       "      <td>39.650372</td>\n",
       "    </tr>\n",
       "    <tr>\n",
       "      <th>std</th>\n",
       "      <td>591.458429</td>\n",
       "      <td>2019.826565</td>\n",
       "      <td>4576.506350</td>\n",
       "      <td>15.453072</td>\n",
       "    </tr>\n",
       "    <tr>\n",
       "      <th>min</th>\n",
       "      <td>6.000000</td>\n",
       "      <td>194.000000</td>\n",
       "      <td>200.425000</td>\n",
       "      <td>18.000000</td>\n",
       "    </tr>\n",
       "    <tr>\n",
       "      <th>25%</th>\n",
       "      <td>534.250000</td>\n",
       "      <td>1261.250000</td>\n",
       "      <td>1045.190300</td>\n",
       "      <td>28.000000</td>\n",
       "    </tr>\n",
       "    <tr>\n",
       "      <th>50%</th>\n",
       "      <td>1029.500000</td>\n",
       "      <td>2062.000000</td>\n",
       "      <td>2115.446373</td>\n",
       "      <td>35.000000</td>\n",
       "    </tr>\n",
       "    <tr>\n",
       "      <th>75%</th>\n",
       "      <td>1551.750000</td>\n",
       "      <td>3569.500000</td>\n",
       "      <td>5417.237207</td>\n",
       "      <td>50.000000</td>\n",
       "    </tr>\n",
       "    <tr>\n",
       "      <th>max</th>\n",
       "      <td>2056.000000</td>\n",
       "      <td>9964.000000</td>\n",
       "      <td>34398.479710</td>\n",
       "      <td>84.000000</td>\n",
       "    </tr>\n",
       "  </tbody>\n",
       "</table>\n",
       "</div>"
      ],
      "text/plain": [
       "                id  expected_recovery_amount  actual_recovery_amount  \\\n",
       "count  1882.000000               1882.000000             1882.000000   \n",
       "mean   1035.596174               2759.967588             4000.967837   \n",
       "std     591.458429               2019.826565             4576.506350   \n",
       "min       6.000000                194.000000              200.425000   \n",
       "25%     534.250000               1261.250000             1045.190300   \n",
       "50%    1029.500000               2062.000000             2115.446373   \n",
       "75%    1551.750000               3569.500000             5417.237207   \n",
       "max    2056.000000               9964.000000            34398.479710   \n",
       "\n",
       "               age  \n",
       "count  1882.000000  \n",
       "mean     39.650372  \n",
       "std      15.453072  \n",
       "min      18.000000  \n",
       "25%      28.000000  \n",
       "50%      35.000000  \n",
       "75%      50.000000  \n",
       "max      84.000000  "
      ]
     },
     "execution_count": 10,
     "metadata": {},
     "output_type": "execute_result"
    }
   ],
   "source": [
    "df.describe()"
   ]
  },
  {
   "cell_type": "markdown",
   "metadata": {},
   "source": [
    "Check the variable types:\n",
    "    Sex should be set to categorical variables"
   ]
  },
  {
   "cell_type": "code",
   "execution_count": 11,
   "metadata": {
    "collapsed": false
   },
   "outputs": [
    {
     "data": {
      "text/plain": [
       "id                            int64\n",
       "expected_recovery_amount      int64\n",
       "actual_recovery_amount      float64\n",
       "recovery_strategy            object\n",
       "age                           int64\n",
       "sex                          object\n",
       "dtype: object"
      ]
     },
     "execution_count": 11,
     "metadata": {},
     "output_type": "execute_result"
    }
   ],
   "source": [
    "df.dtypes"
   ]
  },
  {
   "cell_type": "markdown",
   "metadata": {},
   "source": [
    "If sex is set to an object variable, change it to a category using astype"
   ]
  },
  {
   "cell_type": "code",
   "execution_count": 12,
   "metadata": {
    "collapsed": false
   },
   "outputs": [
    {
     "data": {
      "text/plain": [
       "id                             int64\n",
       "expected_recovery_amount       int64\n",
       "actual_recovery_amount       float64\n",
       "recovery_strategy             object\n",
       "age                            int64\n",
       "sex                         category\n",
       "dtype: object"
      ]
     },
     "execution_count": 12,
     "metadata": {},
     "output_type": "execute_result"
    }
   ],
   "source": [
    "df[\"sex\"] = df[\"sex\"].astype('category')\n",
    "df.dtypes"
   ]
  },
  {
   "cell_type": "markdown",
   "metadata": {},
   "source": [
    "The Recovery Strategy was assigned based on the expected recovery amount.  Can you tell what the thresholds were?"
   ]
  },
  {
   "cell_type": "code",
   "execution_count": 13,
   "metadata": {
    "collapsed": false
   },
   "outputs": [
    {
     "data": {
      "text/html": [
       "<div>\n",
       "<table border=\"1\" class=\"dataframe\">\n",
       "  <thead>\n",
       "    <tr style=\"text-align: right;\">\n",
       "      <th></th>\n",
       "      <th>count</th>\n",
       "      <th>mean</th>\n",
       "      <th>std</th>\n",
       "      <th>min</th>\n",
       "      <th>25%</th>\n",
       "      <th>50%</th>\n",
       "      <th>75%</th>\n",
       "      <th>max</th>\n",
       "    </tr>\n",
       "    <tr>\n",
       "      <th>recovery_strategy</th>\n",
       "      <th></th>\n",
       "      <th></th>\n",
       "      <th></th>\n",
       "      <th></th>\n",
       "      <th></th>\n",
       "      <th></th>\n",
       "      <th></th>\n",
       "      <th></th>\n",
       "    </tr>\n",
       "  </thead>\n",
       "  <tbody>\n",
       "    <tr>\n",
       "      <th>Level 0 Recovery</th>\n",
       "      <td>247.0</td>\n",
       "      <td>825.372470</td>\n",
       "      <td>132.168218</td>\n",
       "      <td>194.0</td>\n",
       "      <td>741.50</td>\n",
       "      <td>848.0</td>\n",
       "      <td>939.00</td>\n",
       "      <td>1000.0</td>\n",
       "    </tr>\n",
       "    <tr>\n",
       "      <th>Level 1 Recovery</th>\n",
       "      <td>670.0</td>\n",
       "      <td>1442.071642</td>\n",
       "      <td>284.890388</td>\n",
       "      <td>1001.0</td>\n",
       "      <td>1190.00</td>\n",
       "      <td>1416.0</td>\n",
       "      <td>1683.50</td>\n",
       "      <td>1997.0</td>\n",
       "    </tr>\n",
       "    <tr>\n",
       "      <th>Level 2 Recovery</th>\n",
       "      <td>333.0</td>\n",
       "      <td>2455.171171</td>\n",
       "      <td>288.826548</td>\n",
       "      <td>2001.0</td>\n",
       "      <td>2211.00</td>\n",
       "      <td>2435.0</td>\n",
       "      <td>2705.00</td>\n",
       "      <td>2992.0</td>\n",
       "    </tr>\n",
       "    <tr>\n",
       "      <th>Level 3 Recovery</th>\n",
       "      <td>368.0</td>\n",
       "      <td>3797.497283</td>\n",
       "      <td>571.032441</td>\n",
       "      <td>3002.0</td>\n",
       "      <td>3323.25</td>\n",
       "      <td>3702.5</td>\n",
       "      <td>4188.75</td>\n",
       "      <td>4987.0</td>\n",
       "    </tr>\n",
       "    <tr>\n",
       "      <th>Level 4 Recovery</th>\n",
       "      <td>264.0</td>\n",
       "      <td>6852.852273</td>\n",
       "      <td>1419.983625</td>\n",
       "      <td>5008.0</td>\n",
       "      <td>5538.75</td>\n",
       "      <td>6605.0</td>\n",
       "      <td>7931.00</td>\n",
       "      <td>9964.0</td>\n",
       "    </tr>\n",
       "  </tbody>\n",
       "</table>\n",
       "</div>"
      ],
      "text/plain": [
       "                   count         mean          std     min      25%     50%  \\\n",
       "recovery_strategy                                                             \n",
       "Level 0 Recovery   247.0   825.372470   132.168218   194.0   741.50   848.0   \n",
       "Level 1 Recovery   670.0  1442.071642   284.890388  1001.0  1190.00  1416.0   \n",
       "Level 2 Recovery   333.0  2455.171171   288.826548  2001.0  2211.00  2435.0   \n",
       "Level 3 Recovery   368.0  3797.497283   571.032441  3002.0  3323.25  3702.5   \n",
       "Level 4 Recovery   264.0  6852.852273  1419.983625  5008.0  5538.75  6605.0   \n",
       "\n",
       "                       75%     max  \n",
       "recovery_strategy                   \n",
       "Level 0 Recovery    939.00  1000.0  \n",
       "Level 1 Recovery   1683.50  1997.0  \n",
       "Level 2 Recovery   2705.00  2992.0  \n",
       "Level 3 Recovery   4188.75  4987.0  \n",
       "Level 4 Recovery   7931.00  9964.0  "
      ]
     },
     "execution_count": 13,
     "metadata": {},
     "output_type": "execute_result"
    }
   ],
   "source": [
    "grouped_data = df.groupby(['recovery_strategy'])\n",
    "grouped_data['expected_recovery_amount'].describe().unstack()"
   ]
  },
  {
   "cell_type": "markdown",
   "metadata": {},
   "source": [
    "Examining the distribution of Expected Recovery Amount"
   ]
  },
  {
   "cell_type": "code",
   "execution_count": 14,
   "metadata": {
    "collapsed": false
   },
   "outputs": [
    {
     "data": {
      "image/png": "[encoded data removed]",
      "text/plain": [
       "<matplotlib.figure.Figure at 0x7b265970b8>"
      ]
     },
     "metadata": {},
     "output_type": "display_data"
    }
   ],
   "source": [
    "plt.hist(df['expected_recovery_amount'], bins=25)\n",
    "plt.title(\"Expected Recovery Amount distribution\")\n",
    "plt.xlabel(\"Expected Recovery Amount\")\n",
    "plt.ylabel(\"Frequency\")\n",
    "plt.axvline(x=1000)\n",
    "plt.axvline(x=2000)\n",
    "plt.axvline(x=3000)\n",
    "plt.axvline(x=5000)\n",
    "plt.show()\n",
    "%matplotlib inline"
   ]
  },
  {
   "cell_type": "markdown",
   "metadata": {},
   "source": [
    "Zeroing in on the first transition (between Level 0 and Level 1) means we are focused on the population \n",
    "with expected recovery amounts between \\$0 and \\$2000 where the transition between Levels occurred at \\$1000.\n",
    "\n",
    "We know the customers in Level 1 (expected recovery amounts >1000) received more attention from the bank \n",
    "and, by definition, that they had higher expected recovery amounts than the customers in Level \\$0.\n",
    "\n",
    "\n",
    "A key question is whether there are other factors besides Expected Recovery Amount that also varied systematically\n",
    "across the \\$1000 threshold.  \n",
    "\n",
    "For example, does the percent of customers that are female show a jump (discontinuity) at the \\$1000 threshold or does that percent move fairly smoothly? \n",
    "\n",
    "Does the customer age show a jump (discontinuity) at the \\$1000 threshold or does that age vary smoothly?\n",
    "\n",
    "Start by first plotting the age as a function of Expected Recovery Amount"
   ]
  },
  {
   "cell_type": "code",
   "execution_count": 15,
   "metadata": {
    "collapsed": false
   },
   "outputs": [
    {
     "data": {
      "image/png": "[encoded data removed]",
      "text/plain": [
       "<matplotlib.figure.Figure at 0x7b2657af28>"
      ]
     },
     "metadata": {},
     "output_type": "display_data"
    }
   ],
   "source": [
    "plt.scatter(x=df['expected_recovery_amount'], y=df['age'], c=\"g\", s=2)\n",
    "plt.xlim(0, 10000)\n",
    "plt.xlabel(\"Expected Recovery Amount\")\n",
    "plt.ylabel(\"Age\")\n",
    "plt.legend(loc=2)\n",
    "plt.show()"
   ]
  },
  {
   "cell_type": "markdown",
   "metadata": {},
   "source": [
    "Now plot age as a function of Expected Recovery Amount for a smaller window of Expected Recovery Amount, \\$0-\\$2000.  This range covers Levels 0 and 1  "
   ]
  },
  {
   "cell_type": "code",
   "execution_count": 16,
   "metadata": {
    "collapsed": false
   },
   "outputs": [
    {
     "data": {
      "image/png": "[encoded data removed]",
      "text/plain": [
       "<matplotlib.figure.Figure at 0x7b26a86a58>"
      ]
     },
     "metadata": {},
     "output_type": "display_data"
    }
   ],
   "source": [
    "plt.scatter(x=df['expected_recovery_amount'], y=df['age'], c=\"g\", s=2)\n",
    "plt.xlim(0, 2000)\n",
    "plt.ylim(0, 60)\n",
    "plt.xlabel(\"Expected Recovery Amount\")\n",
    "plt.ylabel(\"Age\")\n",
    "plt.legend(loc=2)\n",
    "plt.show()"
   ]
  },
  {
   "cell_type": "markdown",
   "metadata": {},
   "source": [
    "Compute the average age just above and just below the \\$1000 threshold.  Determine if there is a difference in these ages.\n",
    "\n",
    "For determining if there is a difference in the ages, we will use the Kruskall Wallis test which is a robust test (does not make distributional assumptions).  You can also use the t-test which specifically makes assumptions about the distribution of the variables."
   ]
  },
  {
   "cell_type": "code",
   "execution_count": 19,
   "metadata": {
    "collapsed": false
   },
   "outputs": [
    {
     "data": {
      "text/html": [
       "<div>\n",
       "<table border=\"1\" class=\"dataframe\">\n",
       "  <thead>\n",
       "    <tr>\n",
       "      <th></th>\n",
       "      <th colspan=\"8\" halign=\"left\">age</th>\n",
       "      <th colspan=\"5\" halign=\"left\">expected_recovery_amount</th>\n",
       "      <th colspan=\"8\" halign=\"left\">actual_recovery_amount</th>\n",
       "    </tr>\n",
       "    <tr>\n",
       "      <th></th>\n",
       "      <th>count</th>\n",
       "      <th>mean</th>\n",
       "      <th>std</th>\n",
       "      <th>min</th>\n",
       "      <th>25%</th>\n",
       "      <th>50%</th>\n",
       "      <th>75%</th>\n",
       "      <th>max</th>\n",
       "      <th>count</th>\n",
       "      <th>mean</th>\n",
       "      <th>...</th>\n",
       "      <th>75%</th>\n",
       "      <th>max</th>\n",
       "      <th>count</th>\n",
       "      <th>mean</th>\n",
       "      <th>std</th>\n",
       "      <th>min</th>\n",
       "      <th>25%</th>\n",
       "      <th>50%</th>\n",
       "      <th>75%</th>\n",
       "      <th>max</th>\n",
       "    </tr>\n",
       "    <tr>\n",
       "      <th>recovery_strategy</th>\n",
       "      <th></th>\n",
       "      <th></th>\n",
       "      <th></th>\n",
       "      <th></th>\n",
       "      <th></th>\n",
       "      <th></th>\n",
       "      <th></th>\n",
       "      <th></th>\n",
       "      <th></th>\n",
       "      <th></th>\n",
       "      <th></th>\n",
       "      <th></th>\n",
       "      <th></th>\n",
       "      <th></th>\n",
       "      <th></th>\n",
       "      <th></th>\n",
       "      <th></th>\n",
       "      <th></th>\n",
       "      <th></th>\n",
       "      <th></th>\n",
       "      <th></th>\n",
       "    </tr>\n",
       "  </thead>\n",
       "  <tbody>\n",
       "    <tr>\n",
       "      <th>Level 0 Recovery</th>\n",
       "      <td>247.0</td>\n",
       "      <td>27.627530</td>\n",
       "      <td>5.975469</td>\n",
       "      <td>18.0</td>\n",
       "      <td>23.0</td>\n",
       "      <td>27.0</td>\n",
       "      <td>32.0</td>\n",
       "      <td>56.0</td>\n",
       "      <td>247.0</td>\n",
       "      <td>825.372470</td>\n",
       "      <td>...</td>\n",
       "      <td>939.0</td>\n",
       "      <td>1000.0</td>\n",
       "      <td>247.0</td>\n",
       "      <td>521.027126</td>\n",
       "      <td>205.609793</td>\n",
       "      <td>200.425000</td>\n",
       "      <td>370.717500</td>\n",
       "      <td>500.23000</td>\n",
       "      <td>616.805000</td>\n",
       "      <td>1300.790000</td>\n",
       "    </tr>\n",
       "    <tr>\n",
       "      <th>Level 1 Recovery</th>\n",
       "      <td>670.0</td>\n",
       "      <td>29.773134</td>\n",
       "      <td>6.904594</td>\n",
       "      <td>18.0</td>\n",
       "      <td>24.0</td>\n",
       "      <td>30.0</td>\n",
       "      <td>34.0</td>\n",
       "      <td>56.0</td>\n",
       "      <td>670.0</td>\n",
       "      <td>1442.071642</td>\n",
       "      <td>...</td>\n",
       "      <td>1683.5</td>\n",
       "      <td>1997.0</td>\n",
       "      <td>670.0</td>\n",
       "      <td>1301.689329</td>\n",
       "      <td>488.180769</td>\n",
       "      <td>433.199166</td>\n",
       "      <td>974.591776</td>\n",
       "      <td>1196.26044</td>\n",
       "      <td>1551.723081</td>\n",
       "      <td>5018.282398</td>\n",
       "    </tr>\n",
       "  </tbody>\n",
       "</table>\n",
       "<p>2 rows × 24 columns</p>\n",
       "</div>"
      ],
      "text/plain": [
       "                     age                                                     \\\n",
       "                   count       mean       std   min   25%   50%   75%   max   \n",
       "recovery_strategy                                                             \n",
       "Level 0 Recovery   247.0  27.627530  5.975469  18.0  23.0  27.0  32.0  56.0   \n",
       "Level 1 Recovery   670.0  29.773134  6.904594  18.0  24.0  30.0  34.0  56.0   \n",
       "\n",
       "                  expected_recovery_amount                  ...               \\\n",
       "                                     count         mean     ...          75%   \n",
       "recovery_strategy                                           ...                \n",
       "Level 0 Recovery                     247.0   825.372470     ...        939.0   \n",
       "Level 1 Recovery                     670.0  1442.071642     ...       1683.5   \n",
       "\n",
       "                          actual_recovery_amount                           \\\n",
       "                      max                  count         mean         std   \n",
       "recovery_strategy                                                           \n",
       "Level 0 Recovery   1000.0                  247.0   521.027126  205.609793   \n",
       "Level 1 Recovery   1997.0                  670.0  1301.689329  488.180769   \n",
       "\n",
       "                                                                    \\\n",
       "                          min         25%         50%          75%   \n",
       "recovery_strategy                                                    \n",
       "Level 0 Recovery   200.425000  370.717500   500.23000   616.805000   \n",
       "Level 1 Recovery   433.199166  974.591776  1196.26044  1551.723081   \n",
       "\n",
       "                                \n",
       "                           max  \n",
       "recovery_strategy               \n",
       "Level 0 Recovery   1300.790000  \n",
       "Level 1 Recovery   5018.282398  \n",
       "\n",
       "[2 rows x 24 columns]"
      ]
     },
     "execution_count": 19,
     "metadata": {},
     "output_type": "execute_result"
    }
   ],
   "source": [
    "grouped_data = df.loc[(df['expected_recovery_amount']<2000) & (df['expected_recovery_amount']>=0)].groupby(['recovery_strategy'])\n",
    "grouped_data['age', 'expected_recovery_amount','actual_recovery_amount'].describe().unstack()"
   ]
  },
  {
   "cell_type": "markdown",
   "metadata": {},
   "source": [
    "When we look at the entire range of Level 0 and Level 1, we see a very large difference in the actual recovery amount of around \\$781 (=\\$1302-\\$521) between the Level 1 and Level 0 groups.  \n",
    "\n",
    "**What is the difference in the actual recovery amount when we observe when we use a narrower range such as \\$750 to \\$1250 or the range of \\$900 to \\$1100?**  \n",
    "\n",
    "For the range of \\$900 to \\$1100 you should see a difference of about \\$333 between the two recovery levels (and a similar amount for the range of \\$950 to \\$1050)"
   ]
  },
  {
   "cell_type": "code",
   "execution_count": 20,
   "metadata": {
    "collapsed": false
   },
   "outputs": [
    {
     "data": {
      "text/plain": [
       "KruskalResult(statistic=17.74265377474401, pvalue=2.5289215640638461e-05)"
      ]
     },
     "execution_count": 20,
     "metadata": {},
     "output_type": "execute_result"
    }
   ],
   "source": [
    "Level_0_age = df.loc[(df['expected_recovery_amount']<2000) & (df['expected_recovery_amount']>=0) & (df['recovery_strategy']==\"Level 0 Recovery\")]['age']\n",
    "Level_1_age = df.loc[(df['expected_recovery_amount']<2000) & (df['expected_recovery_amount']>=0) & (df['recovery_strategy']==\"Level 1 Recovery\")]['age']\n",
    "stats.kruskal(Level_0_age,Level_1_age) "
   ]
  },
  {
   "cell_type": "code",
   "execution_count": 21,
   "metadata": {
    "collapsed": false
   },
   "outputs": [
    {
     "data": {
      "text/plain": [
       "Ttest_indResult(statistic=-4.3230029505214711, pvalue=1.7080035245137415e-05)"
      ]
     },
     "execution_count": 21,
     "metadata": {},
     "output_type": "execute_result"
    }
   ],
   "source": [
    "stats.ttest_ind(Level_0_age,Level_1_age)"
   ]
  },
  {
   "cell_type": "markdown",
   "metadata": {},
   "source": [
    "Chi-square tests of %male vs %female"
   ]
  },
  {
   "cell_type": "code",
   "execution_count": 22,
   "metadata": {
    "collapsed": false
   },
   "outputs": [
    {
     "data": {
      "text/html": [
       "<div>\n",
       "<table border=\"1\" class=\"dataframe\">\n",
       "  <thead>\n",
       "    <tr style=\"text-align: right;\">\n",
       "      <th>sex</th>\n",
       "      <th>Female</th>\n",
       "      <th>Male</th>\n",
       "    </tr>\n",
       "    <tr>\n",
       "      <th>recovery_strategy</th>\n",
       "      <th></th>\n",
       "      <th></th>\n",
       "    </tr>\n",
       "  </thead>\n",
       "  <tbody>\n",
       "    <tr>\n",
       "      <th>Level 0 Recovery</th>\n",
       "      <td>108</td>\n",
       "      <td>139</td>\n",
       "    </tr>\n",
       "    <tr>\n",
       "      <th>Level 1 Recovery</th>\n",
       "      <td>316</td>\n",
       "      <td>354</td>\n",
       "    </tr>\n",
       "  </tbody>\n",
       "</table>\n",
       "</div>"
      ],
      "text/plain": [
       "sex                Female  Male\n",
       "recovery_strategy              \n",
       "Level 0 Recovery      108   139\n",
       "Level 1 Recovery      316   354"
      ]
     },
     "execution_count": 22,
     "metadata": {},
     "output_type": "execute_result"
    }
   ],
   "source": [
    "crosstab = pd.crosstab(df.loc[(df['expected_recovery_amount']<2000) & (df['expected_recovery_amount']>=0)]['recovery_strategy'], df['sex'])\n",
    "crosstab\n"
   ]
  },
  {
   "cell_type": "code",
   "execution_count": 23,
   "metadata": {
    "collapsed": false
   },
   "outputs": [
    {
     "data": {
      "text/plain": [
       "0.39416505436866123"
      ]
     },
     "execution_count": 23,
     "metadata": {},
     "output_type": "execute_result"
    }
   ],
   "source": [
    "chi2_stat, p_val, dof, ex = stats.chi2_contingency(crosstab)\n",
    "p_val"
   ]
  },
  {
   "cell_type": "markdown",
   "metadata": {},
   "source": [
    "We can see that when examining the entire range of the Expected Recovery Amount for Levels 0 and 1 (\\$0 to \\$2000), there is no significant difference in the distribution of sex but there is a significant difference in the distribution of age.\n",
    "\n",
    "Using subjects near the cutoff enables one to compare customers from Recovery Level 0 and Recovery Level 1 who are likely to be similar, but assignment to the Levels. \n",
    "\n",
    "**What happens when we choose a narrower range like \\$750 to \\$1250 or an even narrower range like \\$900 to \\$1100?**\n"
   ]
  },
  {
   "cell_type": "code",
   "execution_count": 24,
   "metadata": {
    "collapsed": false,
    "scrolled": true
   },
   "outputs": [
    {
     "data": {
      "text/html": [
       "<div>\n",
       "<table border=\"1\" class=\"dataframe\">\n",
       "  <thead>\n",
       "    <tr style=\"text-align: right;\">\n",
       "      <th></th>\n",
       "      <th>id</th>\n",
       "      <th>expected_recovery_amount</th>\n",
       "      <th>actual_recovery_amount</th>\n",
       "      <th>recovery_strategy</th>\n",
       "      <th>age</th>\n",
       "      <th>sex</th>\n",
       "      <th>indicator_900</th>\n",
       "      <th>indicator_950</th>\n",
       "      <th>indicator_975</th>\n",
       "      <th>indicator_1000</th>\n",
       "      <th>indicator_1025</th>\n",
       "      <th>indicator_1050</th>\n",
       "      <th>indicator_1075</th>\n",
       "      <th>indicator_1100</th>\n",
       "    </tr>\n",
       "  </thead>\n",
       "  <tbody>\n",
       "    <tr>\n",
       "      <th>0</th>\n",
       "      <td>2030</td>\n",
       "      <td>194</td>\n",
       "      <td>263.540</td>\n",
       "      <td>Level 0 Recovery</td>\n",
       "      <td>19</td>\n",
       "      <td>Male</td>\n",
       "      <td>0</td>\n",
       "      <td>0</td>\n",
       "      <td>0</td>\n",
       "      <td>0</td>\n",
       "      <td>0</td>\n",
       "      <td>0</td>\n",
       "      <td>0</td>\n",
       "      <td>0</td>\n",
       "    </tr>\n",
       "    <tr>\n",
       "      <th>1</th>\n",
       "      <td>1150</td>\n",
       "      <td>486</td>\n",
       "      <td>416.090</td>\n",
       "      <td>Level 0 Recovery</td>\n",
       "      <td>25</td>\n",
       "      <td>Female</td>\n",
       "      <td>0</td>\n",
       "      <td>0</td>\n",
       "      <td>0</td>\n",
       "      <td>0</td>\n",
       "      <td>0</td>\n",
       "      <td>0</td>\n",
       "      <td>0</td>\n",
       "      <td>0</td>\n",
       "    </tr>\n",
       "    <tr>\n",
       "      <th>2</th>\n",
       "      <td>380</td>\n",
       "      <td>527</td>\n",
       "      <td>429.350</td>\n",
       "      <td>Level 0 Recovery</td>\n",
       "      <td>27</td>\n",
       "      <td>Male</td>\n",
       "      <td>0</td>\n",
       "      <td>0</td>\n",
       "      <td>0</td>\n",
       "      <td>0</td>\n",
       "      <td>0</td>\n",
       "      <td>0</td>\n",
       "      <td>0</td>\n",
       "      <td>0</td>\n",
       "    </tr>\n",
       "    <tr>\n",
       "      <th>3</th>\n",
       "      <td>1838</td>\n",
       "      <td>536</td>\n",
       "      <td>296.990</td>\n",
       "      <td>Level 0 Recovery</td>\n",
       "      <td>25</td>\n",
       "      <td>Male</td>\n",
       "      <td>0</td>\n",
       "      <td>0</td>\n",
       "      <td>0</td>\n",
       "      <td>0</td>\n",
       "      <td>0</td>\n",
       "      <td>0</td>\n",
       "      <td>0</td>\n",
       "      <td>0</td>\n",
       "    </tr>\n",
       "    <tr>\n",
       "      <th>4</th>\n",
       "      <td>1995</td>\n",
       "      <td>541</td>\n",
       "      <td>346.385</td>\n",
       "      <td>Level 0 Recovery</td>\n",
       "      <td>34</td>\n",
       "      <td>Male</td>\n",
       "      <td>0</td>\n",
       "      <td>0</td>\n",
       "      <td>0</td>\n",
       "      <td>0</td>\n",
       "      <td>0</td>\n",
       "      <td>0</td>\n",
       "      <td>0</td>\n",
       "      <td>0</td>\n",
       "    </tr>\n",
       "  </tbody>\n",
       "</table>\n",
       "</div>"
      ],
      "text/plain": [
       "     id  expected_recovery_amount  actual_recovery_amount recovery_strategy  \\\n",
       "0  2030                       194                 263.540  Level 0 Recovery   \n",
       "1  1150                       486                 416.090  Level 0 Recovery   \n",
       "2   380                       527                 429.350  Level 0 Recovery   \n",
       "3  1838                       536                 296.990  Level 0 Recovery   \n",
       "4  1995                       541                 346.385  Level 0 Recovery   \n",
       "\n",
       "   age     sex  indicator_900  indicator_950  indicator_975  indicator_1000  \\\n",
       "0   19    Male              0              0              0               0   \n",
       "1   25  Female              0              0              0               0   \n",
       "2   27    Male              0              0              0               0   \n",
       "3   25    Male              0              0              0               0   \n",
       "4   34    Male              0              0              0               0   \n",
       "\n",
       "   indicator_1025  indicator_1050  indicator_1075  indicator_1100  \n",
       "0               0               0               0               0  \n",
       "1               0               0               0               0  \n",
       "2               0               0               0               0  \n",
       "3               0               0               0               0  \n",
       "4               0               0               0               0  "
      ]
     },
     "execution_count": 24,
     "metadata": {},
     "output_type": "execute_result"
    }
   ],
   "source": [
    "df['indicator_900'] = np.where(df['expected_recovery_amount']<900, 0, 1)\n",
    "df['indicator_950'] = np.where(df['expected_recovery_amount']<950, 0, 1)\n",
    "df['indicator_975'] = np.where(df['expected_recovery_amount']<975, 0, 1)\n",
    "df['indicator_1000'] = np.where(df['expected_recovery_amount']<1000, 0, 1)\n",
    "df['indicator_1025'] = np.where(df['expected_recovery_amount']<1025, 0, 1)\n",
    "df['indicator_1050'] = np.where(df['expected_recovery_amount']<1050, 0, 1)\n",
    "df['indicator_1075'] = np.where(df['expected_recovery_amount']<1075, 0, 1)\n",
    "df['indicator_1100'] = np.where(df['expected_recovery_amount']<1100, 0, 1)\n",
    "df.head()"
   ]
  },
  {
   "cell_type": "code",
   "execution_count": 25,
   "metadata": {
    "collapsed": false
   },
   "outputs": [
    {
     "data": {
      "text/html": [
       "<div>\n",
       "<table border=\"1\" class=\"dataframe\">\n",
       "  <thead>\n",
       "    <tr style=\"text-align: right;\">\n",
       "      <th></th>\n",
       "      <th>id</th>\n",
       "      <th>expected_recovery_amount</th>\n",
       "      <th>actual_recovery_amount</th>\n",
       "      <th>age</th>\n",
       "      <th>indicator_900</th>\n",
       "      <th>indicator_950</th>\n",
       "      <th>indicator_975</th>\n",
       "      <th>indicator_1000</th>\n",
       "      <th>indicator_1025</th>\n",
       "      <th>indicator_1050</th>\n",
       "      <th>indicator_1075</th>\n",
       "      <th>indicator_1100</th>\n",
       "    </tr>\n",
       "  </thead>\n",
       "  <tbody>\n",
       "    <tr>\n",
       "      <th>count</th>\n",
       "      <td>1882.000000</td>\n",
       "      <td>1882.000000</td>\n",
       "      <td>1882.000000</td>\n",
       "      <td>1882.000000</td>\n",
       "      <td>1882.000000</td>\n",
       "      <td>1882.000000</td>\n",
       "      <td>1882.000000</td>\n",
       "      <td>1882.000000</td>\n",
       "      <td>1882.000000</td>\n",
       "      <td>1882.000000</td>\n",
       "      <td>1882.000000</td>\n",
       "      <td>1882.000000</td>\n",
       "    </tr>\n",
       "    <tr>\n",
       "      <th>mean</th>\n",
       "      <td>1035.596174</td>\n",
       "      <td>2759.967588</td>\n",
       "      <td>4000.967837</td>\n",
       "      <td>39.650372</td>\n",
       "      <td>0.916047</td>\n",
       "      <td>0.897981</td>\n",
       "      <td>0.886291</td>\n",
       "      <td>0.869288</td>\n",
       "      <td>0.859192</td>\n",
       "      <td>0.845377</td>\n",
       "      <td>0.832625</td>\n",
       "      <td>0.818810</td>\n",
       "    </tr>\n",
       "    <tr>\n",
       "      <th>std</th>\n",
       "      <td>591.458429</td>\n",
       "      <td>2019.826565</td>\n",
       "      <td>4576.506350</td>\n",
       "      <td>15.453072</td>\n",
       "      <td>0.277391</td>\n",
       "      <td>0.302754</td>\n",
       "      <td>0.317542</td>\n",
       "      <td>0.337175</td>\n",
       "      <td>0.347915</td>\n",
       "      <td>0.361641</td>\n",
       "      <td>0.373410</td>\n",
       "      <td>0.385278</td>\n",
       "    </tr>\n",
       "    <tr>\n",
       "      <th>min</th>\n",
       "      <td>6.000000</td>\n",
       "      <td>194.000000</td>\n",
       "      <td>200.425000</td>\n",
       "      <td>18.000000</td>\n",
       "      <td>0.000000</td>\n",
       "      <td>0.000000</td>\n",
       "      <td>0.000000</td>\n",
       "      <td>0.000000</td>\n",
       "      <td>0.000000</td>\n",
       "      <td>0.000000</td>\n",
       "      <td>0.000000</td>\n",
       "      <td>0.000000</td>\n",
       "    </tr>\n",
       "    <tr>\n",
       "      <th>25%</th>\n",
       "      <td>534.250000</td>\n",
       "      <td>1261.250000</td>\n",
       "      <td>1045.190300</td>\n",
       "      <td>28.000000</td>\n",
       "      <td>1.000000</td>\n",
       "      <td>1.000000</td>\n",
       "      <td>1.000000</td>\n",
       "      <td>1.000000</td>\n",
       "      <td>1.000000</td>\n",
       "      <td>1.000000</td>\n",
       "      <td>1.000000</td>\n",
       "      <td>1.000000</td>\n",
       "    </tr>\n",
       "    <tr>\n",
       "      <th>50%</th>\n",
       "      <td>1029.500000</td>\n",
       "      <td>2062.000000</td>\n",
       "      <td>2115.446373</td>\n",
       "      <td>35.000000</td>\n",
       "      <td>1.000000</td>\n",
       "      <td>1.000000</td>\n",
       "      <td>1.000000</td>\n",
       "      <td>1.000000</td>\n",
       "      <td>1.000000</td>\n",
       "      <td>1.000000</td>\n",
       "      <td>1.000000</td>\n",
       "      <td>1.000000</td>\n",
       "    </tr>\n",
       "    <tr>\n",
       "      <th>75%</th>\n",
       "      <td>1551.750000</td>\n",
       "      <td>3569.500000</td>\n",
       "      <td>5417.237207</td>\n",
       "      <td>50.000000</td>\n",
       "      <td>1.000000</td>\n",
       "      <td>1.000000</td>\n",
       "      <td>1.000000</td>\n",
       "      <td>1.000000</td>\n",
       "      <td>1.000000</td>\n",
       "      <td>1.000000</td>\n",
       "      <td>1.000000</td>\n",
       "      <td>1.000000</td>\n",
       "    </tr>\n",
       "    <tr>\n",
       "      <th>max</th>\n",
       "      <td>2056.000000</td>\n",
       "      <td>9964.000000</td>\n",
       "      <td>34398.479710</td>\n",
       "      <td>84.000000</td>\n",
       "      <td>1.000000</td>\n",
       "      <td>1.000000</td>\n",
       "      <td>1.000000</td>\n",
       "      <td>1.000000</td>\n",
       "      <td>1.000000</td>\n",
       "      <td>1.000000</td>\n",
       "      <td>1.000000</td>\n",
       "      <td>1.000000</td>\n",
       "    </tr>\n",
       "  </tbody>\n",
       "</table>\n",
       "</div>"
      ],
      "text/plain": [
       "                id  expected_recovery_amount  actual_recovery_amount  \\\n",
       "count  1882.000000               1882.000000             1882.000000   \n",
       "mean   1035.596174               2759.967588             4000.967837   \n",
       "std     591.458429               2019.826565             4576.506350   \n",
       "min       6.000000                194.000000              200.425000   \n",
       "25%     534.250000               1261.250000             1045.190300   \n",
       "50%    1029.500000               2062.000000             2115.446373   \n",
       "75%    1551.750000               3569.500000             5417.237207   \n",
       "max    2056.000000               9964.000000            34398.479710   \n",
       "\n",
       "               age  indicator_900  indicator_950  indicator_975  \\\n",
       "count  1882.000000    1882.000000    1882.000000    1882.000000   \n",
       "mean     39.650372       0.916047       0.897981       0.886291   \n",
       "std      15.453072       0.277391       0.302754       0.317542   \n",
       "min      18.000000       0.000000       0.000000       0.000000   \n",
       "25%      28.000000       1.000000       1.000000       1.000000   \n",
       "50%      35.000000       1.000000       1.000000       1.000000   \n",
       "75%      50.000000       1.000000       1.000000       1.000000   \n",
       "max      84.000000       1.000000       1.000000       1.000000   \n",
       "\n",
       "       indicator_1000  indicator_1025  indicator_1050  indicator_1075  \\\n",
       "count     1882.000000     1882.000000     1882.000000     1882.000000   \n",
       "mean         0.869288        0.859192        0.845377        0.832625   \n",
       "std          0.337175        0.347915        0.361641        0.373410   \n",
       "min          0.000000        0.000000        0.000000        0.000000   \n",
       "25%          1.000000        1.000000        1.000000        1.000000   \n",
       "50%          1.000000        1.000000        1.000000        1.000000   \n",
       "75%          1.000000        1.000000        1.000000        1.000000   \n",
       "max          1.000000        1.000000        1.000000        1.000000   \n",
       "\n",
       "       indicator_1100  \n",
       "count     1882.000000  \n",
       "mean         0.818810  \n",
       "std          0.385278  \n",
       "min          0.000000  \n",
       "25%          1.000000  \n",
       "50%          1.000000  \n",
       "75%          1.000000  \n",
       "max          1.000000  "
      ]
     },
     "execution_count": 25,
     "metadata": {},
     "output_type": "execute_result"
    }
   ],
   "source": [
    "df.describe()"
   ]
  },
  {
   "cell_type": "markdown",
   "metadata": {},
   "source": [
    "If there was no impact of the program on the actual recovery amount, then we would expect that the relationship between the expected recovery amount and the actual recovery amount would be continuous. \n",
    "\n",
    "If there was some impact of the program on the actual recovery amount, then we would expect that, after controlling for the expected recovery amount, there would still be some \"jump\" or \"discontinuity\" at the threshold where the program begins.  \n",
    "\n",
    "The size of the discontinuity is the impact of the program at that threshold.  We want to determine if the size of the impact is greater than the cost of the program (\\$50 per person)\n"
   ]
  },
  {
   "cell_type": "code",
   "execution_count": 26,
   "metadata": {
    "collapsed": false
   },
   "outputs": [
    {
     "data": {
      "image/png": "[encoded data removed]",
      "text/plain": [
       "<IPython.core.display.Image object>"
      ]
     },
     "execution_count": 26,
     "metadata": {},
     "output_type": "execute_result"
    }
   ],
   "source": [
    "from IPython.display import Image\n",
    "Image(filename='Regression Discontinuity graph.png')"
   ]
  },
  {
   "cell_type": "markdown",
   "metadata": {},
   "source": [
    "Develop a regression model of actual recovery amount as a function of expected recovery amount.\n",
    "\n",
    "Later we will explore the impact of adding to this regression model the threshold indicator for the \"fake\" thresholds of \\$900, \\$925, \\$950, \\$975, \\$1025, \\$1050, \\$1075, and \\$1100 as well as the impact of adding the true threshold of \\$1000.  \n",
    "\n",
    "If there is an impact of the program, then we expect that the true threshold of \\$1000 will not only be the best model (as measured by adjusted R-squared) but also that the regression coefficient of the indicator_1000 is the estimate of the impact of the program.  Also, the regression coefficient should be similar to the difference we say in the average recovery amount just above and just below the threshold which we saw earlier was about \\$300\n",
    "\n",
    "To start, let's build this model for customers in the range between \\$750 and \\$1250 using just expected recovery amount as an independent variable and actual recovery amount as the dependent variable"
   ]
  },
  {
   "cell_type": "code",
   "execution_count": 27,
   "metadata": {
    "collapsed": false
   },
   "outputs": [],
   "source": [
    "# define the data/predictors as the pre-set feature names  \n",
    "x = df.loc[(df['expected_recovery_amount']<1250) & (df['expected_recovery_amount']>750)]['expected_recovery_amount']\n",
    "y = df.loc[(df['expected_recovery_amount']<1250) & (df['expected_recovery_amount']>750)]['actual_recovery_amount']\n",
    "x = sm.add_constant(x)"
   ]
  },
  {
   "cell_type": "code",
   "execution_count": 28,
   "metadata": {
    "collapsed": false
   },
   "outputs": [
    {
     "data": {
      "text/html": [
       "<table class=\"simpletable\">\n",
       "<caption>OLS Regression Results</caption>\n",
       "<tr>\n",
       "  <th>Dep. Variable:</th>    <td>actual_recovery_amount</td> <th>  R-squared:         </th> <td>   0.416</td>\n",
       "</tr>\n",
       "<tr>\n",
       "  <th>Model:</th>                      <td>OLS</td>          <th>  Adj. R-squared:    </th> <td>   0.415</td>\n",
       "</tr>\n",
       "<tr>\n",
       "  <th>Method:</th>                <td>Least Squares</td>     <th>  F-statistic:       </th> <td>   279.6</td>\n",
       "</tr>\n",
       "<tr>\n",
       "  <th>Date:</th>                <td>Thu, 30 Aug 2018</td>    <th>  Prob (F-statistic):</th> <td>9.18e-48</td>\n",
       "</tr>\n",
       "<tr>\n",
       "  <th>Time:</th>                    <td>10:15:44</td>        <th>  Log-Likelihood:    </th> <td> -2751.5</td>\n",
       "</tr>\n",
       "<tr>\n",
       "  <th>No. Observations:</th>         <td>   394</td>         <th>  AIC:               </th> <td>   5507.</td>\n",
       "</tr>\n",
       "<tr>\n",
       "  <th>Df Residuals:</th>             <td>   392</td>         <th>  BIC:               </th> <td>   5515.</td>\n",
       "</tr>\n",
       "<tr>\n",
       "  <th>Df Model:</th>                 <td>     1</td>         <th>                     </th>     <td> </td>   \n",
       "</tr>\n",
       "<tr>\n",
       "  <th>Covariance Type:</th>         <td>nonrobust</td>       <th>                     </th>     <td> </td>   \n",
       "</tr>\n",
       "</table>\n",
       "<table class=\"simpletable\">\n",
       "<tr>\n",
       "              <td></td>                <th>coef</th>     <th>std err</th>      <th>t</th>      <th>P>|t|</th> <th>[95.0% Conf. Int.]</th> \n",
       "</tr>\n",
       "<tr>\n",
       "  <th>const</th>                    <td> -832.7972</td> <td>   98.549</td> <td>   -8.451</td> <td> 0.000</td> <td>-1026.548  -639.047</td>\n",
       "</tr>\n",
       "<tr>\n",
       "  <th>expected_recovery_amount</th> <td>    1.6123</td> <td>    0.096</td> <td>   16.722</td> <td> 0.000</td> <td>    1.423     1.802</td>\n",
       "</tr>\n",
       "</table>\n",
       "<table class=\"simpletable\">\n",
       "<tr>\n",
       "  <th>Omnibus:</th>       <td>108.623</td> <th>  Durbin-Watson:     </th> <td>   1.818</td>\n",
       "</tr>\n",
       "<tr>\n",
       "  <th>Prob(Omnibus):</th> <td> 0.000</td>  <th>  Jarque-Bera (JB):  </th> <td> 325.953</td>\n",
       "</tr>\n",
       "<tr>\n",
       "  <th>Skew:</th>          <td> 1.267</td>  <th>  Prob(JB):          </th> <td>1.66e-71</td>\n",
       "</tr>\n",
       "<tr>\n",
       "  <th>Kurtosis:</th>      <td> 6.665</td>  <th>  Cond. No.          </th> <td>7.64e+03</td>\n",
       "</tr>\n",
       "</table>"
      ],
      "text/plain": [
       "<class 'statsmodels.iolib.summary.Summary'>\n",
       "\"\"\"\n",
       "                              OLS Regression Results                              \n",
       "==================================================================================\n",
       "Dep. Variable:     actual_recovery_amount   R-squared:                       0.416\n",
       "Model:                                OLS   Adj. R-squared:                  0.415\n",
       "Method:                     Least Squares   F-statistic:                     279.6\n",
       "Date:                    Thu, 30 Aug 2018   Prob (F-statistic):           9.18e-48\n",
       "Time:                            10:15:44   Log-Likelihood:                -2751.5\n",
       "No. Observations:                     394   AIC:                             5507.\n",
       "Df Residuals:                         392   BIC:                             5515.\n",
       "Df Model:                               1                                         \n",
       "Covariance Type:                nonrobust                                         \n",
       "============================================================================================\n",
       "                               coef    std err          t      P>|t|      [95.0% Conf. Int.]\n",
       "--------------------------------------------------------------------------------------------\n",
       "const                     -832.7972     98.549     -8.451      0.000     -1026.548  -639.047\n",
       "expected_recovery_amount     1.6123      0.096     16.722      0.000         1.423     1.802\n",
       "==============================================================================\n",
       "Omnibus:                      108.623   Durbin-Watson:                   1.818\n",
       "Prob(Omnibus):                  0.000   Jarque-Bera (JB):              325.953\n",
       "Skew:                           1.267   Prob(JB):                     1.66e-71\n",
       "Kurtosis:                       6.665   Cond. No.                     7.64e+03\n",
       "==============================================================================\n",
       "\n",
       "Warnings:\n",
       "[1] Standard Errors assume that the covariance matrix of the errors is correctly specified.\n",
       "[2] The condition number is large, 7.64e+03. This might indicate that there are\n",
       "strong multicollinearity or other numerical problems.\n",
       "\"\"\""
      ]
     },
     "execution_count": 28,
     "metadata": {},
     "output_type": "execute_result"
    }
   ],
   "source": [
    "model = sm.OLS(y, x).fit()\n",
    "predictions = model.predict(x)\n",
    "\n",
    "# Print out the statistics\n",
    "model.summary()"
   ]
  },
  {
   "cell_type": "markdown",
   "metadata": {
    "collapsed": true
   },
   "source": [
    "Here we can see that expected recovery amount is OK at predicting actual recovery amount, with an adjusted R-squared of 0.415.  As we saw from the graph, on average the actual_recovery_amount increases as the expected_recovery_amount increases.  We could add polynomial terms of expected recovery amount to the model but, for the purposes of this practice, let's stick with using just the linear term.\n",
    "\n",
    "Adding in the variable that indicates the Recovery Level results in an even better model where the regression coefficient for the Recovery Level is the estimate of the impact of the program."
   ]
  },
  {
   "cell_type": "code",
   "execution_count": 29,
   "metadata": {
    "collapsed": false
   },
   "outputs": [],
   "source": [
    "indicator_1000 = df.loc[(df['expected_recovery_amount']<1250) & (df['expected_recovery_amount']>750)]['indicator_1000']"
   ]
  },
  {
   "cell_type": "code",
   "execution_count": 30,
   "metadata": {
    "collapsed": false
   },
   "outputs": [],
   "source": [
    "# define the data/predictors as the pre-set feature names  \n",
    "X = df.loc[(df['expected_recovery_amount']<1250) & (df['expected_recovery_amount']>750),['expected_recovery_amount','indicator_1000']]\n",
    "y = df.loc[(df['expected_recovery_amount']<1250) & (df['expected_recovery_amount']>750)]['actual_recovery_amount']\n",
    "X = sm.add_constant(X)"
   ]
  },
  {
   "cell_type": "code",
   "execution_count": 31,
   "metadata": {
    "collapsed": false,
    "scrolled": true
   },
   "outputs": [
    {
     "data": {
      "text/html": [
       "<table class=\"simpletable\">\n",
       "<caption>OLS Regression Results</caption>\n",
       "<tr>\n",
       "  <th>Dep. Variable:</th>    <td>actual_recovery_amount</td> <th>  R-squared:         </th> <td>   0.455</td>\n",
       "</tr>\n",
       "<tr>\n",
       "  <th>Model:</th>                      <td>OLS</td>          <th>  Adj. R-squared:    </th> <td>   0.452</td>\n",
       "</tr>\n",
       "<tr>\n",
       "  <th>Method:</th>                <td>Least Squares</td>     <th>  F-statistic:       </th> <td>   163.2</td>\n",
       "</tr>\n",
       "<tr>\n",
       "  <th>Date:</th>                <td>Thu, 30 Aug 2018</td>    <th>  Prob (F-statistic):</th> <td>2.96e-52</td>\n",
       "</tr>\n",
       "<tr>\n",
       "  <th>Time:</th>                    <td>10:17:08</td>        <th>  Log-Likelihood:    </th> <td> -2738.0</td>\n",
       "</tr>\n",
       "<tr>\n",
       "  <th>No. Observations:</th>         <td>   394</td>         <th>  AIC:               </th> <td>   5482.</td>\n",
       "</tr>\n",
       "<tr>\n",
       "  <th>Df Residuals:</th>             <td>   391</td>         <th>  BIC:               </th> <td>   5494.</td>\n",
       "</tr>\n",
       "<tr>\n",
       "  <th>Df Model:</th>                 <td>     2</td>         <th>                     </th>     <td> </td>   \n",
       "</tr>\n",
       "<tr>\n",
       "  <th>Covariance Type:</th>         <td>nonrobust</td>       <th>                     </th>     <td> </td>   \n",
       "</tr>\n",
       "</table>\n",
       "<table class=\"simpletable\">\n",
       "<tr>\n",
       "              <td></td>                <th>coef</th>     <th>std err</th>      <th>t</th>      <th>P>|t|</th> <th>[95.0% Conf. Int.]</th> \n",
       "</tr>\n",
       "<tr>\n",
       "  <th>const</th>                    <td> -185.6941</td> <td>  155.560</td> <td>   -1.194</td> <td> 0.233</td> <td> -491.534   120.145</td>\n",
       "</tr>\n",
       "<tr>\n",
       "  <th>expected_recovery_amount</th> <td>    0.8393</td> <td>    0.174</td> <td>    4.825</td> <td> 0.000</td> <td>    0.497     1.181</td>\n",
       "</tr>\n",
       "<tr>\n",
       "  <th>indicator_1000</th>           <td>  251.2557</td> <td>   47.723</td> <td>    5.265</td> <td> 0.000</td> <td>  157.429   345.082</td>\n",
       "</tr>\n",
       "</table>\n",
       "<table class=\"simpletable\">\n",
       "<tr>\n",
       "  <th>Omnibus:</th>       <td>108.482</td> <th>  Durbin-Watson:     </th> <td>   1.943</td>\n",
       "</tr>\n",
       "<tr>\n",
       "  <th>Prob(Omnibus):</th> <td> 0.000</td>  <th>  Jarque-Bera (JB):  </th> <td> 302.687</td>\n",
       "</tr>\n",
       "<tr>\n",
       "  <th>Skew:</th>          <td> 1.296</td>  <th>  Prob(JB):          </th> <td>1.87e-66</td>\n",
       "</tr>\n",
       "<tr>\n",
       "  <th>Kurtosis:</th>      <td> 6.423</td>  <th>  Cond. No.          </th> <td>1.28e+04</td>\n",
       "</tr>\n",
       "</table>"
      ],
      "text/plain": [
       "<class 'statsmodels.iolib.summary.Summary'>\n",
       "\"\"\"\n",
       "                              OLS Regression Results                              \n",
       "==================================================================================\n",
       "Dep. Variable:     actual_recovery_amount   R-squared:                       0.455\n",
       "Model:                                OLS   Adj. R-squared:                  0.452\n",
       "Method:                     Least Squares   F-statistic:                     163.2\n",
       "Date:                    Thu, 30 Aug 2018   Prob (F-statistic):           2.96e-52\n",
       "Time:                            10:17:08   Log-Likelihood:                -2738.0\n",
       "No. Observations:                     394   AIC:                             5482.\n",
       "Df Residuals:                         391   BIC:                             5494.\n",
       "Df Model:                               2                                         \n",
       "Covariance Type:                nonrobust                                         \n",
       "============================================================================================\n",
       "                               coef    std err          t      P>|t|      [95.0% Conf. Int.]\n",
       "--------------------------------------------------------------------------------------------\n",
       "const                     -185.6941    155.560     -1.194      0.233      -491.534   120.145\n",
       "expected_recovery_amount     0.8393      0.174      4.825      0.000         0.497     1.181\n",
       "indicator_1000             251.2557     47.723      5.265      0.000       157.429   345.082\n",
       "==============================================================================\n",
       "Omnibus:                      108.482   Durbin-Watson:                   1.943\n",
       "Prob(Omnibus):                  0.000   Jarque-Bera (JB):              302.687\n",
       "Skew:                           1.296   Prob(JB):                     1.87e-66\n",
       "Kurtosis:                       6.423   Cond. No.                     1.28e+04\n",
       "==============================================================================\n",
       "\n",
       "Warnings:\n",
       "[1] Standard Errors assume that the covariance matrix of the errors is correctly specified.\n",
       "[2] The condition number is large, 1.28e+04. This might indicate that there are\n",
       "strong multicollinearity or other numerical problems.\n",
       "\"\"\""
      ]
     },
     "execution_count": 31,
     "metadata": {},
     "output_type": "execute_result"
    }
   ],
   "source": [
    "model = sm.OLS(y,X).fit()\n",
    "\n",
    "# Print out the statistics\n",
    "model.summary()"
   ]
  },
  {
   "cell_type": "markdown",
   "metadata": {
    "collapsed": true
   },
   "source": [
    "The regression coefficient for this model is \\$251 with a standard error of \\$48 and the variable for indicator_1000 is statistically significant (P<0.001) while the adjusted R-squared has increased to 0.455.  \n",
    "\n",
    "**How does this regression coefficient compare to the descriptive statistics difference when you used a smaller range such as \\$900 to \\$1100 or the range \\$950 to \\$1050?**"
   ]
  },
  {
   "cell_type": "code",
   "execution_count": 32,
   "metadata": {
    "collapsed": false
   },
   "outputs": [
    {
     "data": {
      "text/html": [
       "<table class=\"simpletable\">\n",
       "<caption>OLS Regression Results</caption>\n",
       "<tr>\n",
       "  <th>Dep. Variable:</th>    <td>actual_recovery_amount</td> <th>  R-squared:         </th> <td>   0.306</td>\n",
       "</tr>\n",
       "<tr>\n",
       "  <th>Model:</th>                      <td>OLS</td>          <th>  Adj. R-squared:    </th> <td>   0.298</td>\n",
       "</tr>\n",
       "<tr>\n",
       "  <th>Method:</th>                <td>Least Squares</td>     <th>  F-statistic:       </th> <td>   39.05</td>\n",
       "</tr>\n",
       "<tr>\n",
       "  <th>Date:</th>                <td>Thu, 30 Aug 2018</td>    <th>  Prob (F-statistic):</th> <td>8.95e-15</td>\n",
       "</tr>\n",
       "<tr>\n",
       "  <th>Time:</th>                    <td>10:17:35</td>        <th>  Log-Likelihood:    </th> <td> -1252.6</td>\n",
       "</tr>\n",
       "<tr>\n",
       "  <th>No. Observations:</th>         <td>   180</td>         <th>  AIC:               </th> <td>   2511.</td>\n",
       "</tr>\n",
       "<tr>\n",
       "  <th>Df Residuals:</th>             <td>   177</td>         <th>  BIC:               </th> <td>   2521.</td>\n",
       "</tr>\n",
       "<tr>\n",
       "  <th>Df Model:</th>                 <td>     2</td>         <th>                     </th>     <td> </td>   \n",
       "</tr>\n",
       "<tr>\n",
       "  <th>Covariance Type:</th>         <td>nonrobust</td>       <th>                     </th>     <td> </td>   \n",
       "</tr>\n",
       "</table>\n",
       "<table class=\"simpletable\">\n",
       "<tr>\n",
       "              <td></td>                <th>coef</th>     <th>std err</th>      <th>t</th>      <th>P>|t|</th> <th>[95.0% Conf. Int.]</th> \n",
       "</tr>\n",
       "<tr>\n",
       "  <th>const</th>                    <td>   61.5437</td> <td>  653.172</td> <td>    0.094</td> <td> 0.925</td> <td>-1227.463  1350.550</td>\n",
       "</tr>\n",
       "<tr>\n",
       "  <th>expected_recovery_amount</th> <td>    0.5840</td> <td>    0.682</td> <td>    0.856</td> <td> 0.393</td> <td>   -0.762     1.930</td>\n",
       "</tr>\n",
       "<tr>\n",
       "  <th>indicator_1000</th>           <td>  281.5309</td> <td>   75.477</td> <td>    3.730</td> <td> 0.000</td> <td>  132.580   430.482</td>\n",
       "</tr>\n",
       "</table>\n",
       "<table class=\"simpletable\">\n",
       "<tr>\n",
       "  <th>Omnibus:</th>       <td>63.949</td> <th>  Durbin-Watson:     </th> <td>   1.898</td>\n",
       "</tr>\n",
       "<tr>\n",
       "  <th>Prob(Omnibus):</th> <td> 0.000</td> <th>  Jarque-Bera (JB):  </th> <td> 175.962</td>\n",
       "</tr>\n",
       "<tr>\n",
       "  <th>Skew:</th>          <td> 1.494</td> <th>  Prob(JB):          </th> <td>6.17e-39</td>\n",
       "</tr>\n",
       "<tr>\n",
       "  <th>Kurtosis:</th>      <td> 6.813</td> <th>  Cond. No.          </th> <td>3.46e+04</td>\n",
       "</tr>\n",
       "</table>"
      ],
      "text/plain": [
       "<class 'statsmodels.iolib.summary.Summary'>\n",
       "\"\"\"\n",
       "                              OLS Regression Results                              \n",
       "==================================================================================\n",
       "Dep. Variable:     actual_recovery_amount   R-squared:                       0.306\n",
       "Model:                                OLS   Adj. R-squared:                  0.298\n",
       "Method:                     Least Squares   F-statistic:                     39.05\n",
       "Date:                    Thu, 30 Aug 2018   Prob (F-statistic):           8.95e-15\n",
       "Time:                            10:17:35   Log-Likelihood:                -1252.6\n",
       "No. Observations:                     180   AIC:                             2511.\n",
       "Df Residuals:                         177   BIC:                             2521.\n",
       "Df Model:                               2                                         \n",
       "Covariance Type:                nonrobust                                         \n",
       "============================================================================================\n",
       "                               coef    std err          t      P>|t|      [95.0% Conf. Int.]\n",
       "--------------------------------------------------------------------------------------------\n",
       "const                       61.5437    653.172      0.094      0.925     -1227.463  1350.550\n",
       "expected_recovery_amount     0.5840      0.682      0.856      0.393        -0.762     1.930\n",
       "indicator_1000             281.5309     75.477      3.730      0.000       132.580   430.482\n",
       "==============================================================================\n",
       "Omnibus:                       63.949   Durbin-Watson:                   1.898\n",
       "Prob(Omnibus):                  0.000   Jarque-Bera (JB):              175.962\n",
       "Skew:                           1.494   Prob(JB):                     6.17e-39\n",
       "Kurtosis:                       6.813   Cond. No.                     3.46e+04\n",
       "==============================================================================\n",
       "\n",
       "Warnings:\n",
       "[1] Standard Errors assume that the covariance matrix of the errors is correctly specified.\n",
       "[2] The condition number is large, 3.46e+04. This might indicate that there are\n",
       "strong multicollinearity or other numerical problems.\n",
       "\"\"\""
      ]
     },
     "execution_count": 32,
     "metadata": {},
     "output_type": "execute_result"
    }
   ],
   "source": [
    "# define the data/predictors as the pre-set feature names  \n",
    "X = df.loc[(df['expected_recovery_amount']<1100) & (df['expected_recovery_amount']>900),['expected_recovery_amount','indicator_1000']]\n",
    "y = df.loc[(df['expected_recovery_amount']<1100) & (df['expected_recovery_amount']>900)]['actual_recovery_amount']\n",
    "X = sm.add_constant(X)\n",
    "model = sm.OLS(y,X).fit()\n",
    "# Print out the statistics\n",
    "model.summary()"
   ]
  },
  {
   "cell_type": "markdown",
   "metadata": {},
   "source": [
    "You should observe that using a narrower range results in a consistent estimate of the regression coefficient.\n",
    "\n",
    "We know that the true threshold is \\$1000.  If we use a \"false threshold\" like \\$900, \\$950, \\$1050 or \\$1100, we expect that the regression model should be a worse fit (as measured by adjusted R-squared) and the estimated regression coefficient for the threshold will be less than the actual impact.\n",
    "\n",
    "Recall that when we built the model using a range of expected recovery amount of \\$750 to \\$1250, regression coefficient for this model is \\$251 with a standard error of \\$48 and the variable for indicator_1000 was statistically significant (P<0.001) while the adjusted R-squared was 0.455.\n",
    "\n",
    "**Using the range of \\$750 to \\$1250, what do you observe when you use a \"false threshold\" of \\$900? \\$950? \\$1050? \\$1100?** \n",
    "\n",
    "You should conclude that the model is best (highest adjusted R-squared) when you use the true threshold of \\$1000, the regression coefficient is statistically significant and the regression coefficient (\\$251) is much larger than the incremental cost of \\$50 per customer."
   ]
  },
  {
   "cell_type": "markdown",
   "metadata": {},
   "source": [
    "**Further exploration**\n",
    "\n",
    "We did this work for the threshold between Level 0 and Level 1 which occurs at \\$1000.\n",
    "\n",
    "What happens when you do this exploration for Level 1 to 2?  Is the incremental impact of Level 2 worth the costs?"
   ]
  },
  {
   "cell_type": "code",
   "execution_count": null,
   "metadata": {
    "collapsed": true
   },
   "outputs": [],
   "source": []
  }
 ],
 "metadata": {
  "kernelspec": {
   "display_name": "Python 3",
   "language": "python",
   "name": "python3"
  },
  "language_info": {
   "codemirror_mode": {
    "name": "ipython",
    "version": 3
   },
   "file_extension": ".py",
   "mimetype": "text/x-python",
   "name": "python",
   "nbconvert_exporter": "python",
   "pygments_lexer": "ipython3",
   "version": "3.6.0"
  }
 },
 "nbformat": 4,
 "nbformat_minor": 2
}
